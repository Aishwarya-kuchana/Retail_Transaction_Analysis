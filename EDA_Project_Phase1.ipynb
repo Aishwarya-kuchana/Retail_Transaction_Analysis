{
 "cells": [
  {
   "cell_type": "code",
   "execution_count": 1,
   "id": "2bbb3b3f-9656-404d-833d-d352f001b507",
   "metadata": {},
   "outputs": [],
   "source": [
    "import pandas as pd\n",
    "import numpy as np"
   ]
  },
  {
   "cell_type": "markdown",
   "id": "b441ed2a-b381-47ce-805f-3e1b7d9df8c9",
   "metadata": {},
   "source": [
    "# Load the data set using pandas.read()"
   ]
  },
  {
   "cell_type": "code",
   "execution_count": 2,
   "id": "b0911a30-0d66-42db-83ff-5a0c7909ce02",
   "metadata": {},
   "outputs": [],
   "source": [
    "df=pd.read_csv(r\"C:\\Users\\lenovo\\Downloads\\dataset\\Retail_Transaction_Dataset.csv\")"
   ]
  },
  {
   "cell_type": "code",
   "execution_count": 3,
   "id": "11147ed9-0fb4-49d7-acd9-ae80004dfd44",
   "metadata": {},
   "outputs": [
    {
     "data": {
      "text/html": [
       "<div>\n",
       "<style scoped>\n",
       "    .dataframe tbody tr th:only-of-type {\n",
       "        vertical-align: middle;\n",
       "    }\n",
       "\n",
       "    .dataframe tbody tr th {\n",
       "        vertical-align: top;\n",
       "    }\n",
       "\n",
       "    .dataframe thead th {\n",
       "        text-align: right;\n",
       "    }\n",
       "</style>\n",
       "<table border=\"1\" class=\"dataframe\">\n",
       "  <thead>\n",
       "    <tr style=\"text-align: right;\">\n",
       "      <th></th>\n",
       "      <th>CustomerID</th>\n",
       "      <th>ProductID</th>\n",
       "      <th>Quantity</th>\n",
       "      <th>Price</th>\n",
       "      <th>TransactionDate</th>\n",
       "      <th>PaymentMethod</th>\n",
       "      <th>StoreLocation</th>\n",
       "      <th>ProductCategory</th>\n",
       "      <th>DiscountApplied(%)</th>\n",
       "      <th>TotalAmount</th>\n",
       "    </tr>\n",
       "  </thead>\n",
       "  <tbody>\n",
       "    <tr>\n",
       "      <th>0</th>\n",
       "      <td>109318</td>\n",
       "      <td>C</td>\n",
       "      <td>7</td>\n",
       "      <td>80.079844</td>\n",
       "      <td>12/26/2023 12:32</td>\n",
       "      <td>Cash</td>\n",
       "      <td>176 Andrew Cliffs\\nBaileyfort, HI 93354</td>\n",
       "      <td>Books</td>\n",
       "      <td>18.677100</td>\n",
       "      <td>455.862764</td>\n",
       "    </tr>\n",
       "    <tr>\n",
       "      <th>1</th>\n",
       "      <td>993229</td>\n",
       "      <td>C</td>\n",
       "      <td>4</td>\n",
       "      <td>75.195229</td>\n",
       "      <td>8/5/2023 0:00</td>\n",
       "      <td>Cash</td>\n",
       "      <td>11635 William Well Suite 809\\nEast Kara, MT 19483</td>\n",
       "      <td>Home Decor</td>\n",
       "      <td>14.121365</td>\n",
       "      <td>258.306546</td>\n",
       "    </tr>\n",
       "    <tr>\n",
       "      <th>2</th>\n",
       "      <td>579675</td>\n",
       "      <td>A</td>\n",
       "      <td>8</td>\n",
       "      <td>31.528816</td>\n",
       "      <td>3/11/2024 18:51</td>\n",
       "      <td>Cash</td>\n",
       "      <td>910 Mendez Ville Suite 909\\nPort Lauraland, MO...</td>\n",
       "      <td>Books</td>\n",
       "      <td>15.943701</td>\n",
       "      <td>212.015651</td>\n",
       "    </tr>\n",
       "    <tr>\n",
       "      <th>3</th>\n",
       "      <td>799826</td>\n",
       "      <td>D</td>\n",
       "      <td>5</td>\n",
       "      <td>98.880218</td>\n",
       "      <td>10/27/2023 22:00</td>\n",
       "      <td>PayPal</td>\n",
       "      <td>87522 Sharon Corners Suite 500\\nLake Tammy, MO...</td>\n",
       "      <td>Books</td>\n",
       "      <td>6.686337</td>\n",
       "      <td>461.343769</td>\n",
       "    </tr>\n",
       "    <tr>\n",
       "      <th>4</th>\n",
       "      <td>121413</td>\n",
       "      <td>A</td>\n",
       "      <td>7</td>\n",
       "      <td>93.188512</td>\n",
       "      <td>12/22/2023 11:38</td>\n",
       "      <td>Cash</td>\n",
       "      <td>0070 Michelle Island Suite 143\\nHoland, VA 80142</td>\n",
       "      <td>Electronics</td>\n",
       "      <td>4.030096</td>\n",
       "      <td>626.030484</td>\n",
       "    </tr>\n",
       "    <tr>\n",
       "      <th>...</th>\n",
       "      <td>...</td>\n",
       "      <td>...</td>\n",
       "      <td>...</td>\n",
       "      <td>...</td>\n",
       "      <td>...</td>\n",
       "      <td>...</td>\n",
       "      <td>...</td>\n",
       "      <td>...</td>\n",
       "      <td>...</td>\n",
       "      <td>...</td>\n",
       "    </tr>\n",
       "    <tr>\n",
       "      <th>99995</th>\n",
       "      <td>726461</td>\n",
       "      <td>A</td>\n",
       "      <td>2</td>\n",
       "      <td>56.078258</td>\n",
       "      <td>7/17/2023 16:59</td>\n",
       "      <td>Credit Card</td>\n",
       "      <td>3632 Darren Station Apt. 553\\nEricaborough, RI...</td>\n",
       "      <td>Clothing</td>\n",
       "      <td>18.345145</td>\n",
       "      <td>91.581240</td>\n",
       "    </tr>\n",
       "    <tr>\n",
       "      <th>99996</th>\n",
       "      <td>328056</td>\n",
       "      <td>A</td>\n",
       "      <td>6</td>\n",
       "      <td>88.516406</td>\n",
       "      <td>5/30/2023 9:04</td>\n",
       "      <td>Credit Card</td>\n",
       "      <td>821 Taylor Shoals\\nEvansville, IL 70845</td>\n",
       "      <td>Electronics</td>\n",
       "      <td>3.995541</td>\n",
       "      <td>509.878179</td>\n",
       "    </tr>\n",
       "    <tr>\n",
       "      <th>99997</th>\n",
       "      <td>887304</td>\n",
       "      <td>B</td>\n",
       "      <td>4</td>\n",
       "      <td>72.385564</td>\n",
       "      <td>8/25/2023 7:59</td>\n",
       "      <td>Credit Card</td>\n",
       "      <td>50653 Kara Lakes\\nStephanieborough, RI 94492</td>\n",
       "      <td>Clothing</td>\n",
       "      <td>17.423979</td>\n",
       "      <td>239.092472</td>\n",
       "    </tr>\n",
       "    <tr>\n",
       "      <th>99998</th>\n",
       "      <td>326401</td>\n",
       "      <td>C</td>\n",
       "      <td>5</td>\n",
       "      <td>66.542239</td>\n",
       "      <td>2/5/2024 19:45</td>\n",
       "      <td>PayPal</td>\n",
       "      <td>18756 Mcfarland Way Suite 866\\nBarnettside, PR...</td>\n",
       "      <td>Electronics</td>\n",
       "      <td>14.345018</td>\n",
       "      <td>284.983717</td>\n",
       "    </tr>\n",
       "    <tr>\n",
       "      <th>99999</th>\n",
       "      <td>771566</td>\n",
       "      <td>C</td>\n",
       "      <td>5</td>\n",
       "      <td>38.087766</td>\n",
       "      <td>2/4/2024 11:53</td>\n",
       "      <td>Debit Card</td>\n",
       "      <td>8046 Hull Drive\\nPaulstad, GU 87218</td>\n",
       "      <td>Home Decor</td>\n",
       "      <td>2.966058</td>\n",
       "      <td>184.790305</td>\n",
       "    </tr>\n",
       "  </tbody>\n",
       "</table>\n",
       "<p>100000 rows × 10 columns</p>\n",
       "</div>"
      ],
      "text/plain": [
       "       CustomerID ProductID  Quantity      Price   TransactionDate  \\\n",
       "0          109318         C         7  80.079844  12/26/2023 12:32   \n",
       "1          993229         C         4  75.195229     8/5/2023 0:00   \n",
       "2          579675         A         8  31.528816   3/11/2024 18:51   \n",
       "3          799826         D         5  98.880218  10/27/2023 22:00   \n",
       "4          121413         A         7  93.188512  12/22/2023 11:38   \n",
       "...           ...       ...       ...        ...               ...   \n",
       "99995      726461         A         2  56.078258   7/17/2023 16:59   \n",
       "99996      328056         A         6  88.516406    5/30/2023 9:04   \n",
       "99997      887304         B         4  72.385564    8/25/2023 7:59   \n",
       "99998      326401         C         5  66.542239    2/5/2024 19:45   \n",
       "99999      771566         C         5  38.087766    2/4/2024 11:53   \n",
       "\n",
       "      PaymentMethod                                      StoreLocation  \\\n",
       "0              Cash            176 Andrew Cliffs\\nBaileyfort, HI 93354   \n",
       "1              Cash  11635 William Well Suite 809\\nEast Kara, MT 19483   \n",
       "2              Cash  910 Mendez Ville Suite 909\\nPort Lauraland, MO...   \n",
       "3            PayPal  87522 Sharon Corners Suite 500\\nLake Tammy, MO...   \n",
       "4              Cash   0070 Michelle Island Suite 143\\nHoland, VA 80142   \n",
       "...             ...                                                ...   \n",
       "99995   Credit Card  3632 Darren Station Apt. 553\\nEricaborough, RI...   \n",
       "99996   Credit Card            821 Taylor Shoals\\nEvansville, IL 70845   \n",
       "99997   Credit Card       50653 Kara Lakes\\nStephanieborough, RI 94492   \n",
       "99998        PayPal  18756 Mcfarland Way Suite 866\\nBarnettside, PR...   \n",
       "99999    Debit Card                8046 Hull Drive\\nPaulstad, GU 87218   \n",
       "\n",
       "      ProductCategory  DiscountApplied(%)  TotalAmount  \n",
       "0               Books           18.677100   455.862764  \n",
       "1          Home Decor           14.121365   258.306546  \n",
       "2               Books           15.943701   212.015651  \n",
       "3               Books            6.686337   461.343769  \n",
       "4         Electronics            4.030096   626.030484  \n",
       "...               ...                 ...          ...  \n",
       "99995        Clothing           18.345145    91.581240  \n",
       "99996     Electronics            3.995541   509.878179  \n",
       "99997        Clothing           17.423979   239.092472  \n",
       "99998     Electronics           14.345018   284.983717  \n",
       "99999      Home Decor            2.966058   184.790305  \n",
       "\n",
       "[100000 rows x 10 columns]"
      ]
     },
     "execution_count": 3,
     "metadata": {},
     "output_type": "execute_result"
    }
   ],
   "source": [
    "df"
   ]
  },
  {
   "cell_type": "markdown",
   "id": "c847b97a-c8af-47f0-98bf-dfec509be659",
   "metadata": {},
   "source": [
    "# Observation\n",
    "- Retail dataset has been loaded successfully using pandas read method(pd.read_csv())"
   ]
  },
  {
   "cell_type": "markdown",
   "id": "6344b3e2-c428-409e-9450-f6f0583a8715",
   "metadata": {},
   "source": [
    "# Understanding the structure of dataset"
   ]
  },
  {
   "cell_type": "code",
   "execution_count": 4,
   "id": "6bdbff6f-ef6e-4044-92d5-11ea330969c1",
   "metadata": {},
   "outputs": [
    {
     "data": {
      "text/plain": [
       "(100000, 10)"
      ]
     },
     "execution_count": 4,
     "metadata": {},
     "output_type": "execute_result"
    }
   ],
   "source": [
    "df.shape"
   ]
  },
  {
   "cell_type": "markdown",
   "id": "d2d91957-238b-4bc0-90c9-42808283b3f5",
   "metadata": {},
   "source": [
    "## Observation\n",
    "- The dataset contains 100000 rows and 10 columns representing complete details of a product like productId,payment mode,quantity,price,date and time of purchase etc by a customer."
   ]
  },
  {
   "cell_type": "markdown",
   "id": "89116f55-2b37-4491-921b-13cfc2a93f02",
   "metadata": {},
   "source": [
    "# Previewing the first few rows"
   ]
  },
  {
   "cell_type": "code",
   "execution_count": 5,
   "id": "db602b7a-f5b2-49fc-a3b3-fceccb9d4bee",
   "metadata": {},
   "outputs": [
    {
     "data": {
      "text/html": [
       "<div>\n",
       "<style scoped>\n",
       "    .dataframe tbody tr th:only-of-type {\n",
       "        vertical-align: middle;\n",
       "    }\n",
       "\n",
       "    .dataframe tbody tr th {\n",
       "        vertical-align: top;\n",
       "    }\n",
       "\n",
       "    .dataframe thead th {\n",
       "        text-align: right;\n",
       "    }\n",
       "</style>\n",
       "<table border=\"1\" class=\"dataframe\">\n",
       "  <thead>\n",
       "    <tr style=\"text-align: right;\">\n",
       "      <th></th>\n",
       "      <th>CustomerID</th>\n",
       "      <th>ProductID</th>\n",
       "      <th>Quantity</th>\n",
       "      <th>Price</th>\n",
       "      <th>TransactionDate</th>\n",
       "      <th>PaymentMethod</th>\n",
       "      <th>StoreLocation</th>\n",
       "      <th>ProductCategory</th>\n",
       "      <th>DiscountApplied(%)</th>\n",
       "      <th>TotalAmount</th>\n",
       "    </tr>\n",
       "  </thead>\n",
       "  <tbody>\n",
       "    <tr>\n",
       "      <th>0</th>\n",
       "      <td>109318</td>\n",
       "      <td>C</td>\n",
       "      <td>7</td>\n",
       "      <td>80.079844</td>\n",
       "      <td>12/26/2023 12:32</td>\n",
       "      <td>Cash</td>\n",
       "      <td>176 Andrew Cliffs\\nBaileyfort, HI 93354</td>\n",
       "      <td>Books</td>\n",
       "      <td>18.677100</td>\n",
       "      <td>455.862764</td>\n",
       "    </tr>\n",
       "    <tr>\n",
       "      <th>1</th>\n",
       "      <td>993229</td>\n",
       "      <td>C</td>\n",
       "      <td>4</td>\n",
       "      <td>75.195229</td>\n",
       "      <td>8/5/2023 0:00</td>\n",
       "      <td>Cash</td>\n",
       "      <td>11635 William Well Suite 809\\nEast Kara, MT 19483</td>\n",
       "      <td>Home Decor</td>\n",
       "      <td>14.121365</td>\n",
       "      <td>258.306546</td>\n",
       "    </tr>\n",
       "    <tr>\n",
       "      <th>2</th>\n",
       "      <td>579675</td>\n",
       "      <td>A</td>\n",
       "      <td>8</td>\n",
       "      <td>31.528816</td>\n",
       "      <td>3/11/2024 18:51</td>\n",
       "      <td>Cash</td>\n",
       "      <td>910 Mendez Ville Suite 909\\nPort Lauraland, MO...</td>\n",
       "      <td>Books</td>\n",
       "      <td>15.943701</td>\n",
       "      <td>212.015651</td>\n",
       "    </tr>\n",
       "    <tr>\n",
       "      <th>3</th>\n",
       "      <td>799826</td>\n",
       "      <td>D</td>\n",
       "      <td>5</td>\n",
       "      <td>98.880218</td>\n",
       "      <td>10/27/2023 22:00</td>\n",
       "      <td>PayPal</td>\n",
       "      <td>87522 Sharon Corners Suite 500\\nLake Tammy, MO...</td>\n",
       "      <td>Books</td>\n",
       "      <td>6.686337</td>\n",
       "      <td>461.343769</td>\n",
       "    </tr>\n",
       "    <tr>\n",
       "      <th>4</th>\n",
       "      <td>121413</td>\n",
       "      <td>A</td>\n",
       "      <td>7</td>\n",
       "      <td>93.188512</td>\n",
       "      <td>12/22/2023 11:38</td>\n",
       "      <td>Cash</td>\n",
       "      <td>0070 Michelle Island Suite 143\\nHoland, VA 80142</td>\n",
       "      <td>Electronics</td>\n",
       "      <td>4.030096</td>\n",
       "      <td>626.030484</td>\n",
       "    </tr>\n",
       "  </tbody>\n",
       "</table>\n",
       "</div>"
      ],
      "text/plain": [
       "   CustomerID ProductID  Quantity      Price   TransactionDate PaymentMethod  \\\n",
       "0      109318         C         7  80.079844  12/26/2023 12:32          Cash   \n",
       "1      993229         C         4  75.195229     8/5/2023 0:00          Cash   \n",
       "2      579675         A         8  31.528816   3/11/2024 18:51          Cash   \n",
       "3      799826         D         5  98.880218  10/27/2023 22:00        PayPal   \n",
       "4      121413         A         7  93.188512  12/22/2023 11:38          Cash   \n",
       "\n",
       "                                       StoreLocation ProductCategory  \\\n",
       "0            176 Andrew Cliffs\\nBaileyfort, HI 93354           Books   \n",
       "1  11635 William Well Suite 809\\nEast Kara, MT 19483      Home Decor   \n",
       "2  910 Mendez Ville Suite 909\\nPort Lauraland, MO...           Books   \n",
       "3  87522 Sharon Corners Suite 500\\nLake Tammy, MO...           Books   \n",
       "4   0070 Michelle Island Suite 143\\nHoland, VA 80142     Electronics   \n",
       "\n",
       "   DiscountApplied(%)  TotalAmount  \n",
       "0           18.677100   455.862764  \n",
       "1           14.121365   258.306546  \n",
       "2           15.943701   212.015651  \n",
       "3            6.686337   461.343769  \n",
       "4            4.030096   626.030484  "
      ]
     },
     "execution_count": 5,
     "metadata": {},
     "output_type": "execute_result"
    }
   ],
   "source": [
    "df.head()"
   ]
  },
  {
   "cell_type": "markdown",
   "id": "29c75ee0-abd8-4aeb-a60e-5ca8798ec22b",
   "metadata": {},
   "source": [
    "## Observation\n",
    "- head() results the first 5 rows which help us understand that the file has loaded successfully."
   ]
  },
  {
   "cell_type": "markdown",
   "id": "a3a8741b-5c2d-4ca8-8fed-2e6ac467e17d",
   "metadata": {},
   "source": [
    "# Dataset Structure and Datatypes"
   ]
  },
  {
   "cell_type": "code",
   "execution_count": 6,
   "id": "bd20e64e-dff1-4091-b0c1-5670f2817ae8",
   "metadata": {},
   "outputs": [
    {
     "name": "stdout",
     "output_type": "stream",
     "text": [
      "<class 'pandas.core.frame.DataFrame'>\n",
      "RangeIndex: 100000 entries, 0 to 99999\n",
      "Data columns (total 10 columns):\n",
      " #   Column              Non-Null Count   Dtype  \n",
      "---  ------              --------------   -----  \n",
      " 0   CustomerID          100000 non-null  int64  \n",
      " 1   ProductID           100000 non-null  object \n",
      " 2   Quantity            100000 non-null  int64  \n",
      " 3   Price               100000 non-null  float64\n",
      " 4   TransactionDate     100000 non-null  object \n",
      " 5   PaymentMethod       100000 non-null  object \n",
      " 6   StoreLocation       100000 non-null  object \n",
      " 7   ProductCategory     100000 non-null  object \n",
      " 8   DiscountApplied(%)  100000 non-null  float64\n",
      " 9   TotalAmount         100000 non-null  float64\n",
      "dtypes: float64(3), int64(2), object(5)\n",
      "memory usage: 7.6+ MB\n"
     ]
    }
   ],
   "source": [
    "df.info()"
   ]
  },
  {
   "cell_type": "markdown",
   "id": "418eef38-28d2-456f-a3e6-860c56c7056e",
   "metadata": {},
   "source": [
    "# Observation\n",
    "- The dataset contains 100000 rows and 10 columns.\n",
    "- out of 10 columns:-\n",
    "    - 2 columns contain integer type of values that is CustomerID and Quantity.\n",
    "    - 5 columns contain categorical type of values including ProductID,PaymentMethod,TransactionDate etc.\n",
    "    - 3 columns contain float type of values including TotalAmount,DiscountApplied,Price."
   ]
  },
  {
   "cell_type": "markdown",
   "id": "b9666583-73a4-4b78-b05e-d2ad9e47aee6",
   "metadata": {},
   "source": [
    "# Null Value count across all columns"
   ]
  },
  {
   "cell_type": "code",
   "execution_count": 8,
   "id": "e4bbb374-f8c4-47d0-995a-3ecebfeadc91",
   "metadata": {},
   "outputs": [
    {
     "data": {
      "text/plain": [
       "CustomerID            0\n",
       "ProductID             0\n",
       "Quantity              0\n",
       "Price                 0\n",
       "TransactionDate       0\n",
       "PaymentMethod         0\n",
       "StoreLocation         0\n",
       "ProductCategory       0\n",
       "DiscountApplied(%)    0\n",
       "TotalAmount           0\n",
       "dtype: int64"
      ]
     },
     "execution_count": 8,
     "metadata": {},
     "output_type": "execute_result"
    }
   ],
   "source": [
    "df.isnull().sum()"
   ]
  },
  {
   "cell_type": "markdown",
   "id": "febec4fe-4c42-44cd-9407-5cf721849e02",
   "metadata": {},
   "source": [
    "## Observation\n",
    "- This shows that there are no null or missing values."
   ]
  },
  {
   "cell_type": "markdown",
   "id": "fde628cc-1e9f-454f-a9de-f4735cb500d9",
   "metadata": {},
   "source": [
    "# Statistical overview of numerical data."
   ]
  },
  {
   "cell_type": "code",
   "execution_count": 9,
   "id": "69494819-1cba-4db3-90bd-24e36d9cbe91",
   "metadata": {},
   "outputs": [
    {
     "data": {
      "text/html": [
       "<div>\n",
       "<style scoped>\n",
       "    .dataframe tbody tr th:only-of-type {\n",
       "        vertical-align: middle;\n",
       "    }\n",
       "\n",
       "    .dataframe tbody tr th {\n",
       "        vertical-align: top;\n",
       "    }\n",
       "\n",
       "    .dataframe thead th {\n",
       "        text-align: right;\n",
       "    }\n",
       "</style>\n",
       "<table border=\"1\" class=\"dataframe\">\n",
       "  <thead>\n",
       "    <tr style=\"text-align: right;\">\n",
       "      <th></th>\n",
       "      <th>CustomerID</th>\n",
       "      <th>Quantity</th>\n",
       "      <th>Price</th>\n",
       "      <th>DiscountApplied(%)</th>\n",
       "      <th>TotalAmount</th>\n",
       "    </tr>\n",
       "  </thead>\n",
       "  <tbody>\n",
       "    <tr>\n",
       "      <th>count</th>\n",
       "      <td>100000.000000</td>\n",
       "      <td>100000.000000</td>\n",
       "      <td>100000.000000</td>\n",
       "      <td>100000.000000</td>\n",
       "      <td>100000.000000</td>\n",
       "    </tr>\n",
       "    <tr>\n",
       "      <th>mean</th>\n",
       "      <td>500463.982180</td>\n",
       "      <td>5.009290</td>\n",
       "      <td>55.067344</td>\n",
       "      <td>10.020155</td>\n",
       "      <td>248.334955</td>\n",
       "    </tr>\n",
       "    <tr>\n",
       "      <th>std</th>\n",
       "      <td>288460.917524</td>\n",
       "      <td>2.579808</td>\n",
       "      <td>25.971567</td>\n",
       "      <td>5.779534</td>\n",
       "      <td>184.554792</td>\n",
       "    </tr>\n",
       "    <tr>\n",
       "      <th>min</th>\n",
       "      <td>14.000000</td>\n",
       "      <td>1.000000</td>\n",
       "      <td>10.000430</td>\n",
       "      <td>0.000046</td>\n",
       "      <td>8.274825</td>\n",
       "    </tr>\n",
       "    <tr>\n",
       "      <th>25%</th>\n",
       "      <td>250693.750000</td>\n",
       "      <td>3.000000</td>\n",
       "      <td>32.549474</td>\n",
       "      <td>5.001013</td>\n",
       "      <td>95.163418</td>\n",
       "    </tr>\n",
       "    <tr>\n",
       "      <th>50%</th>\n",
       "      <td>499679.000000</td>\n",
       "      <td>5.000000</td>\n",
       "      <td>55.116789</td>\n",
       "      <td>10.030353</td>\n",
       "      <td>200.368393</td>\n",
       "    </tr>\n",
       "    <tr>\n",
       "      <th>75%</th>\n",
       "      <td>751104.750000</td>\n",
       "      <td>7.000000</td>\n",
       "      <td>77.456763</td>\n",
       "      <td>15.018367</td>\n",
       "      <td>362.009980</td>\n",
       "    </tr>\n",
       "    <tr>\n",
       "      <th>max</th>\n",
       "      <td>999997.000000</td>\n",
       "      <td>9.000000</td>\n",
       "      <td>99.999284</td>\n",
       "      <td>19.999585</td>\n",
       "      <td>896.141242</td>\n",
       "    </tr>\n",
       "  </tbody>\n",
       "</table>\n",
       "</div>"
      ],
      "text/plain": [
       "          CustomerID       Quantity          Price  DiscountApplied(%)  \\\n",
       "count  100000.000000  100000.000000  100000.000000       100000.000000   \n",
       "mean   500463.982180       5.009290      55.067344           10.020155   \n",
       "std    288460.917524       2.579808      25.971567            5.779534   \n",
       "min        14.000000       1.000000      10.000430            0.000046   \n",
       "25%    250693.750000       3.000000      32.549474            5.001013   \n",
       "50%    499679.000000       5.000000      55.116789           10.030353   \n",
       "75%    751104.750000       7.000000      77.456763           15.018367   \n",
       "max    999997.000000       9.000000      99.999284           19.999585   \n",
       "\n",
       "         TotalAmount  \n",
       "count  100000.000000  \n",
       "mean      248.334955  \n",
       "std       184.554792  \n",
       "min         8.274825  \n",
       "25%        95.163418  \n",
       "50%       200.368393  \n",
       "75%       362.009980  \n",
       "max       896.141242  "
      ]
     },
     "execution_count": 9,
     "metadata": {},
     "output_type": "execute_result"
    }
   ],
   "source": [
    "df.describe()"
   ]
  },
  {
   "cell_type": "markdown",
   "id": "ee84a88f-3c35-4f4f-b67a-2074928582f9",
   "metadata": {},
   "source": [
    "## Observation\n",
    "- This summary shows the statistical measures like count, mean, median, mode, min, max, standard deviation of all numerical columns"
   ]
  },
  {
   "cell_type": "markdown",
   "id": "99f4a99b-3468-4e4c-ad2b-07f1c26266f6",
   "metadata": {},
   "source": [
    "# Value Count Summary(Retail_Transaction_Details Dataset)"
   ]
  },
  {
   "cell_type": "markdown",
   "id": "2fd322f5-9ef0-408a-8cf0-fcf18ca84b9a",
   "metadata": {},
   "source": [
    "### 1.CustomerID\n",
    "- This column contains 99999 unique id's, 1 id for each customer."
   ]
  },
  {
   "cell_type": "markdown",
   "id": "53b4de1d-7e15-4b3f-9fc5-a4f4e1bbd630",
   "metadata": {},
   "source": [
    "## 2. ProductID\n",
    "- This column represents a ProductID for each product like Books, HomeDecors,Eletronics\n",
    "- Here different products represent same ProductID."
   ]
  },
  {
   "cell_type": "markdown",
   "id": "f6a13a7e-4b82-4fde-a5bf-b853b3db195c",
   "metadata": {},
   "source": [
    "## 3. Quantity\n",
    "- This column contains the quantity of products purchased by customers.\n",
    "- There are no missing values.\n",
    "- This column completely contains integer type of values"
   ]
  },
  {
   "cell_type": "markdown",
   "id": "89acd099-b410-4c37-86ba-55fdc0f94e96",
   "metadata": {},
   "source": [
    "## 4. Price\n",
    "- This column contains the price of products sold by retail price product suppliers.\n",
    "- This column represents float datatype of values.\n",
    "  "
   ]
  },
  {
   "cell_type": "markdown",
   "id": "a306c52d-cb92-41cf-87fe-e9b257a4e7c1",
   "metadata": {},
   "source": [
    "## 5. TransactionDate\n",
    "- This column contains date and time of purchase made by the customer.\n",
    "- This column is of object datatype."
   ]
  },
  {
   "cell_type": "markdown",
   "id": "2e69d177-fafd-4d5f-9677-540c53fba319",
   "metadata": {},
   "source": [
    "## 6. PaymentMethod\n",
    "- This column represents the mode of payment made to purchase the product by the customer.\n",
    "- Mode of payment is of different types like payment through Cash or Paypal or Debitcard or Creditcard"
   ]
  },
  {
   "cell_type": "markdown",
   "id": "c0ed6bdd-f19d-4666-bfc6-b3754de293c6",
   "metadata": {},
   "source": [
    "## 7. StoreLocation\n",
    "- This column represents the address of the store where products are sold."
   ]
  },
  {
   "cell_type": "markdown",
   "id": "f817827e-892e-449e-ba83-bddd1997ae53",
   "metadata": {},
   "source": [
    "## 8. ProductCategory\n",
    "- This column represents the different categories of products.\n",
    "- Different products purchased by customers are Books, HomeDecor, Clothing, Electronics."
   ]
  },
  {
   "cell_type": "markdown",
   "id": "20eb8056-a1cc-464d-b1c1-7af9320f07b0",
   "metadata": {},
   "source": [
    "## 9. DiscountApplied(%)\n",
    "- This column contains the discount percentage given for the products purchased by different customers.\n",
    "- Percentage differs for different products."
   ]
  },
  {
   "cell_type": "markdown",
   "id": "823ba55f-a011-40f1-9cb7-29731cc3ea8b",
   "metadata": {},
   "source": [
    "## 10. TotalAmount\n",
    "- This column represents the Total Amount calculated based on quantity, price and discount.\n",
    "- This is the amount paid by the customer to purchase the product."
   ]
  },
  {
   "cell_type": "code",
   "execution_count": 10,
   "id": "e5bce5a4-7933-48ae-a6cc-af8f7c73f7a9",
   "metadata": {},
   "outputs": [
    {
     "data": {
      "text/plain": [
       "ProductID\n",
       "C    25209\n",
       "D    25042\n",
       "B    24997\n",
       "A    24752\n",
       "Name: count, dtype: int64"
      ]
     },
     "execution_count": 10,
     "metadata": {},
     "output_type": "execute_result"
    }
   ],
   "source": [
    "df[\"ProductID\"].value_counts()"
   ]
  },
  {
   "cell_type": "code",
   "execution_count": 11,
   "id": "17ab6d7d-2a65-48ae-921b-d4796085de00",
   "metadata": {},
   "outputs": [
    {
     "data": {
      "text/plain": [
       "Quantity\n",
       "7    11236\n",
       "6    11166\n",
       "5    11146\n",
       "9    11136\n",
       "4    11135\n",
       "8    11083\n",
       "1    11064\n",
       "2    11043\n",
       "3    10991\n",
       "Name: count, dtype: int64"
      ]
     },
     "execution_count": 11,
     "metadata": {},
     "output_type": "execute_result"
    }
   ],
   "source": [
    "df[\"Quantity\"].value_counts()"
   ]
  },
  {
   "cell_type": "code",
   "execution_count": 12,
   "id": "59a9a7d1-2882-4482-9d41-c0a97946a5ce",
   "metadata": {},
   "outputs": [
    {
     "data": {
      "text/plain": [
       "PaymentMethod\n",
       "PayPal         25067\n",
       "Credit Card    25034\n",
       "Cash           25008\n",
       "Debit Card     24891\n",
       "Name: count, dtype: int64"
      ]
     },
     "execution_count": 12,
     "metadata": {},
     "output_type": "execute_result"
    }
   ],
   "source": [
    "df[\"PaymentMethod\"].value_counts()"
   ]
  },
  {
   "cell_type": "code",
   "execution_count": 13,
   "id": "c716d0d1-f4b8-4ff8-95cc-c2c6c02ea059",
   "metadata": {},
   "outputs": [
    {
     "data": {
      "text/plain": [
       "ProductCategory\n",
       "Clothing       25056\n",
       "Books          25031\n",
       "Electronics    24990\n",
       "Home Decor     24923\n",
       "Name: count, dtype: int64"
      ]
     },
     "execution_count": 13,
     "metadata": {},
     "output_type": "execute_result"
    }
   ],
   "source": [
    "df[\"ProductCategory\"].value_counts()"
   ]
  },
  {
   "cell_type": "code",
   "execution_count": 14,
   "id": "3d88edc1-1e82-48ba-bee5-6b3248c0780b",
   "metadata": {},
   "outputs": [
    {
     "data": {
      "text/plain": [
       "TotalAmount\n",
       "555.488605    2\n",
       "101.718375    2\n",
       "455.862764    1\n",
       "398.737263    1\n",
       "642.528301    1\n",
       "             ..\n",
       "109.481265    1\n",
       "180.733181    1\n",
       "638.254825    1\n",
       "524.361666    1\n",
       "184.790305    1\n",
       "Name: count, Length: 99998, dtype: int64"
      ]
     },
     "execution_count": 14,
     "metadata": {},
     "output_type": "execute_result"
    }
   ],
   "source": [
    "df[\"TotalAmount\"].value_counts()"
   ]
  },
  {
   "cell_type": "markdown",
   "id": "4b157bf0-94b8-42d7-b1a4-5453da189be9",
   "metadata": {},
   "source": [
    "# distribution of Key Fields"
   ]
  },
  {
   "cell_type": "markdown",
   "id": "f1f9ab81-bae9-4163-b6d9-b0323a0ad9a4",
   "metadata": {},
   "source": [
    "### Category column\n",
    "- Payment, StoreLocation and product category are non numerical columns\n",
    "- Product Category is well distributed across multiple categories such as Books, HomeDecor, Clothing, Electronics.\n",
    "- Some categories like Books, Clothing appear more frequently compared to other categories.\n",
    "- This suggest imbalance in sales across different categories.\n"
   ]
  },
  {
   "cell_type": "markdown",
   "id": "86a415f2-f288-4bf6-975e-47cb2d712dc4",
   "metadata": {},
   "source": [
    "### Target Variable\n",
    "- Since this is retail dataset there is no paticular target variable.\n",
    "- But according business point of view total amount can be treated as target variable for sales\n",
    "- Even profit can be target variable if derived in later phase."
   ]
  },
  {
   "cell_type": "markdown",
   "id": "ed188ef8-7fe9-4558-8b11-64c18a1a68f5",
   "metadata": {},
   "source": [
    "## Important Identifiers\n",
    "- ProductID is not unique across categories that is same ID is repeated for different product categories."
   ]
  },
  {
   "cell_type": "code",
   "execution_count": null,
   "id": "113078a9-39bd-4cd9-80b6-4502fd407334",
   "metadata": {},
   "outputs": [],
   "source": []
  },
  {
   "cell_type": "code",
   "execution_count": null,
   "id": "541bd26c-372f-4970-85e7-5b80aa32b4ee",
   "metadata": {},
   "outputs": [],
   "source": []
  },
  {
   "cell_type": "code",
   "execution_count": 15,
   "id": "42e7f0c6-348c-445f-b9c4-d7b2e536dbc5",
   "metadata": {},
   "outputs": [
    {
     "data": {
      "text/plain": [
       "4785"
      ]
     },
     "execution_count": 15,
     "metadata": {},
     "output_type": "execute_result"
    }
   ],
   "source": [
    "df[\"CustomerID\"].duplicated().sum()"
   ]
  },
  {
   "cell_type": "markdown",
   "id": "be8f6926-a02d-4d6f-a48e-69c76ed77002",
   "metadata": {},
   "source": [
    "#### - Customer code repeats indicating multiple purchases are made by same customer"
   ]
  },
  {
   "cell_type": "markdown",
   "id": "942aa0e4-ed01-4559-95d1-f002fdafa018",
   "metadata": {},
   "source": [
    "# Insights\n",
    "### 1. There is a data quality issue as same ProductID is used for different Product Categories.\n",
    "    - Product is not uniquely identified using ProductID.\n",
    "    - if profits/total revenue or mostly sold products are calculated based on Product, it would produce wrong informtion and effect business.\n",
    "### 2. CustomerID repeats many times, it shows same customer turned again to make purchases multiple times.\n",
    "### 3. StoreLocation is unique and too detailed, if we extract city or state we can identify which region make more profits and expand expand business.\n",
    "### 4. Based on statistics almost all category products  make equal revenue, Books make slightly more than clothing or electronics."
   ]
  },
  {
   "cell_type": "code",
   "execution_count": 16,
   "id": "f1637724-b76c-4588-a23b-38d3e4526ff7",
   "metadata": {},
   "outputs": [
    {
     "data": {
      "text/plain": [
       "ProductCategory\n",
       "Books          6.257837e+06\n",
       "Clothing       6.205502e+06\n",
       "Electronics    6.196735e+06\n",
       "Home Decor     6.173421e+06\n",
       "Name: TotalAmount, dtype: float64"
      ]
     },
     "execution_count": 16,
     "metadata": {},
     "output_type": "execute_result"
    }
   ],
   "source": [
    "df.groupby(\"ProductCategory\")[\"TotalAmount\"].sum()"
   ]
  },
  {
   "cell_type": "code",
   "execution_count": 17,
   "id": "c06ee4a9-4e07-4255-9f36-1c2d308a71be",
   "metadata": {},
   "outputs": [
    {
     "data": {
      "text/plain": [
       "ProductCategory\n",
       "Books          250.003477\n",
       "Clothing       247.665324\n",
       "Electronics    247.968578\n",
       "Home Decor     247.699770\n",
       "Name: TotalAmount, dtype: float64"
      ]
     },
     "execution_count": 17,
     "metadata": {},
     "output_type": "execute_result"
    }
   ],
   "source": [
    "df.groupby(\"ProductCategory\")[\"TotalAmount\"].mean()"
   ]
  },
  {
   "cell_type": "code",
   "execution_count": 18,
   "id": "ed4e214c-0e30-4e7f-bfa2-8420715969db",
   "metadata": {},
   "outputs": [
    {
     "data": {
      "text/html": [
       "<div>\n",
       "<style scoped>\n",
       "    .dataframe tbody tr th:only-of-type {\n",
       "        vertical-align: middle;\n",
       "    }\n",
       "\n",
       "    .dataframe tbody tr th {\n",
       "        vertical-align: top;\n",
       "    }\n",
       "\n",
       "    .dataframe thead th {\n",
       "        text-align: right;\n",
       "    }\n",
       "</style>\n",
       "<table border=\"1\" class=\"dataframe\">\n",
       "  <thead>\n",
       "    <tr style=\"text-align: right;\">\n",
       "      <th></th>\n",
       "      <th>CustomerID</th>\n",
       "      <th>ProductID</th>\n",
       "      <th>Quantity</th>\n",
       "      <th>Price</th>\n",
       "      <th>TransactionDate</th>\n",
       "      <th>PaymentMethod</th>\n",
       "      <th>StoreLocation</th>\n",
       "      <th>ProductCategory</th>\n",
       "      <th>DiscountApplied(%)</th>\n",
       "      <th>TotalAmount</th>\n",
       "    </tr>\n",
       "  </thead>\n",
       "  <tbody>\n",
       "    <tr>\n",
       "      <th>4</th>\n",
       "      <td>121413</td>\n",
       "      <td>A</td>\n",
       "      <td>7</td>\n",
       "      <td>93.188512</td>\n",
       "      <td>12/22/2023 11:38</td>\n",
       "      <td>Cash</td>\n",
       "      <td>0070 Michelle Island Suite 143\\nHoland, VA 80142</td>\n",
       "      <td>Electronics</td>\n",
       "      <td>4.030096</td>\n",
       "      <td>626.030484</td>\n",
       "    </tr>\n",
       "    <tr>\n",
       "      <th>19</th>\n",
       "      <td>818911</td>\n",
       "      <td>B</td>\n",
       "      <td>5</td>\n",
       "      <td>77.090575</td>\n",
       "      <td>4/6/2024 18:59</td>\n",
       "      <td>Credit Card</td>\n",
       "      <td>44623 Elizabeth Throughway Apt. 440\\nAmberview...</td>\n",
       "      <td>Books</td>\n",
       "      <td>19.252574</td>\n",
       "      <td>311.243274</td>\n",
       "    </tr>\n",
       "    <tr>\n",
       "      <th>27</th>\n",
       "      <td>418277</td>\n",
       "      <td>A</td>\n",
       "      <td>9</td>\n",
       "      <td>27.450194</td>\n",
       "      <td>11/29/2023 11:40</td>\n",
       "      <td>Credit Card</td>\n",
       "      <td>71524 Margaret Dam\\nNorth Rhondaborough, VA 49112</td>\n",
       "      <td>Clothing</td>\n",
       "      <td>4.398935</td>\n",
       "      <td>236.184096</td>\n",
       "    </tr>\n",
       "    <tr>\n",
       "      <th>32</th>\n",
       "      <td>628270</td>\n",
       "      <td>A</td>\n",
       "      <td>5</td>\n",
       "      <td>61.432803</td>\n",
       "      <td>6/4/2023 0:37</td>\n",
       "      <td>Debit Card</td>\n",
       "      <td>6472 Jones Courts Apt. 861\\nWest Dawnport, KS ...</td>\n",
       "      <td>Books</td>\n",
       "      <td>6.323548</td>\n",
       "      <td>287.740350</td>\n",
       "    </tr>\n",
       "    <tr>\n",
       "      <th>41</th>\n",
       "      <td>147124</td>\n",
       "      <td>C</td>\n",
       "      <td>2</td>\n",
       "      <td>79.673863</td>\n",
       "      <td>5/25/2023 10:49</td>\n",
       "      <td>Cash</td>\n",
       "      <td>USNS David\\nFPO AE 12953</td>\n",
       "      <td>Clothing</td>\n",
       "      <td>12.913782</td>\n",
       "      <td>138.769908</td>\n",
       "    </tr>\n",
       "    <tr>\n",
       "      <th>...</th>\n",
       "      <td>...</td>\n",
       "      <td>...</td>\n",
       "      <td>...</td>\n",
       "      <td>...</td>\n",
       "      <td>...</td>\n",
       "      <td>...</td>\n",
       "      <td>...</td>\n",
       "      <td>...</td>\n",
       "      <td>...</td>\n",
       "      <td>...</td>\n",
       "    </tr>\n",
       "    <tr>\n",
       "      <th>99931</th>\n",
       "      <td>444530</td>\n",
       "      <td>D</td>\n",
       "      <td>5</td>\n",
       "      <td>89.717996</td>\n",
       "      <td>5/23/2023 13:12</td>\n",
       "      <td>Debit Card</td>\n",
       "      <td>6552 Wheeler Isle Suite 644\\nCrystalside, ID 5...</td>\n",
       "      <td>Home Decor</td>\n",
       "      <td>10.918878</td>\n",
       "      <td>399.608987</td>\n",
       "    </tr>\n",
       "    <tr>\n",
       "      <th>99938</th>\n",
       "      <td>730233</td>\n",
       "      <td>A</td>\n",
       "      <td>4</td>\n",
       "      <td>40.081843</td>\n",
       "      <td>2/1/2024 3:15</td>\n",
       "      <td>Debit Card</td>\n",
       "      <td>05350 Peck Cliff Apt. 080\\nFreyside, KY 92968</td>\n",
       "      <td>Books</td>\n",
       "      <td>3.533413</td>\n",
       "      <td>154.662345</td>\n",
       "    </tr>\n",
       "    <tr>\n",
       "      <th>99954</th>\n",
       "      <td>666391</td>\n",
       "      <td>D</td>\n",
       "      <td>6</td>\n",
       "      <td>30.980492</td>\n",
       "      <td>8/25/2023 1:51</td>\n",
       "      <td>Cash</td>\n",
       "      <td>9445 Michael Track\\nNorth Abigailside, AK 94088</td>\n",
       "      <td>Books</td>\n",
       "      <td>9.047247</td>\n",
       "      <td>169.065663</td>\n",
       "    </tr>\n",
       "    <tr>\n",
       "      <th>99974</th>\n",
       "      <td>655723</td>\n",
       "      <td>B</td>\n",
       "      <td>2</td>\n",
       "      <td>49.992310</td>\n",
       "      <td>4/24/2024 8:24</td>\n",
       "      <td>Cash</td>\n",
       "      <td>57588 Kevin Trafficway\\nLake Timothyshire, IL ...</td>\n",
       "      <td>Books</td>\n",
       "      <td>18.753029</td>\n",
       "      <td>81.234475</td>\n",
       "    </tr>\n",
       "    <tr>\n",
       "      <th>99980</th>\n",
       "      <td>488114</td>\n",
       "      <td>C</td>\n",
       "      <td>7</td>\n",
       "      <td>65.958432</td>\n",
       "      <td>2/3/2024 10:57</td>\n",
       "      <td>PayPal</td>\n",
       "      <td>051 Hale Divide\\nDavidborough, PR 86800</td>\n",
       "      <td>Books</td>\n",
       "      <td>5.377907</td>\n",
       "      <td>436.878742</td>\n",
       "    </tr>\n",
       "  </tbody>\n",
       "</table>\n",
       "<p>9406 rows × 10 columns</p>\n",
       "</div>"
      ],
      "text/plain": [
       "       CustomerID ProductID  Quantity      Price   TransactionDate  \\\n",
       "4          121413         A         7  93.188512  12/22/2023 11:38   \n",
       "19         818911         B         5  77.090575    4/6/2024 18:59   \n",
       "27         418277         A         9  27.450194  11/29/2023 11:40   \n",
       "32         628270         A         5  61.432803     6/4/2023 0:37   \n",
       "41         147124         C         2  79.673863   5/25/2023 10:49   \n",
       "...           ...       ...       ...        ...               ...   \n",
       "99931      444530         D         5  89.717996   5/23/2023 13:12   \n",
       "99938      730233         A         4  40.081843     2/1/2024 3:15   \n",
       "99954      666391         D         6  30.980492    8/25/2023 1:51   \n",
       "99974      655723         B         2  49.992310    4/24/2024 8:24   \n",
       "99980      488114         C         7  65.958432    2/3/2024 10:57   \n",
       "\n",
       "      PaymentMethod                                      StoreLocation  \\\n",
       "4              Cash   0070 Michelle Island Suite 143\\nHoland, VA 80142   \n",
       "19      Credit Card  44623 Elizabeth Throughway Apt. 440\\nAmberview...   \n",
       "27      Credit Card  71524 Margaret Dam\\nNorth Rhondaborough, VA 49112   \n",
       "32       Debit Card  6472 Jones Courts Apt. 861\\nWest Dawnport, KS ...   \n",
       "41             Cash                           USNS David\\nFPO AE 12953   \n",
       "...             ...                                                ...   \n",
       "99931    Debit Card  6552 Wheeler Isle Suite 644\\nCrystalside, ID 5...   \n",
       "99938    Debit Card      05350 Peck Cliff Apt. 080\\nFreyside, KY 92968   \n",
       "99954          Cash    9445 Michael Track\\nNorth Abigailside, AK 94088   \n",
       "99974          Cash  57588 Kevin Trafficway\\nLake Timothyshire, IL ...   \n",
       "99980        PayPal            051 Hale Divide\\nDavidborough, PR 86800   \n",
       "\n",
       "      ProductCategory  DiscountApplied(%)  TotalAmount  \n",
       "4         Electronics            4.030096   626.030484  \n",
       "19              Books           19.252574   311.243274  \n",
       "27           Clothing            4.398935   236.184096  \n",
       "32              Books            6.323548   287.740350  \n",
       "41           Clothing           12.913782   138.769908  \n",
       "...               ...                 ...          ...  \n",
       "99931      Home Decor           10.918878   399.608987  \n",
       "99938           Books            3.533413   154.662345  \n",
       "99954           Books            9.047247   169.065663  \n",
       "99974           Books           18.753029    81.234475  \n",
       "99980           Books            5.377907   436.878742  \n",
       "\n",
       "[9406 rows x 10 columns]"
      ]
     },
     "execution_count": 18,
     "metadata": {},
     "output_type": "execute_result"
    }
   ],
   "source": [
    "df[df.duplicated(subset=['CustomerID'], keep=False)]"
   ]
  },
  {
   "cell_type": "markdown",
   "id": "e2ccb091-17cb-4bfe-98bd-d631fc5ea0f0",
   "metadata": {},
   "source": [
    "# Outliers"
   ]
  },
  {
   "cell_type": "code",
   "execution_count": 19,
   "id": "3d967b65-25d0-4d63-bc97-9dc544301d90",
   "metadata": {},
   "outputs": [
    {
     "data": {
      "text/plain": [
       "95.1634184575"
      ]
     },
     "execution_count": 19,
     "metadata": {},
     "output_type": "execute_result"
    }
   ],
   "source": [
    "Q1=df[\"TotalAmount\"].quantile(0.25)\n",
    "Q1"
   ]
  },
  {
   "cell_type": "code",
   "execution_count": 20,
   "id": "0002631d-316d-494b-b9a9-d97ca9bb0b2a",
   "metadata": {},
   "outputs": [
    {
     "data": {
      "text/plain": [
       "200.3683931"
      ]
     },
     "execution_count": 20,
     "metadata": {},
     "output_type": "execute_result"
    }
   ],
   "source": [
    "Q2=df[\"TotalAmount\"].quantile(0.50)\n",
    "Q2"
   ]
  },
  {
   "cell_type": "code",
   "execution_count": 21,
   "id": "48b71334-c6e6-4b74-8656-17017b51eb80",
   "metadata": {},
   "outputs": [
    {
     "data": {
      "text/plain": [
       "362.00997989999996"
      ]
     },
     "execution_count": 21,
     "metadata": {},
     "output_type": "execute_result"
    }
   ],
   "source": [
    "Q3=df[\"TotalAmount\"].quantile(0.75)\n",
    "Q3"
   ]
  },
  {
   "cell_type": "code",
   "execution_count": 22,
   "id": "88fadb9b-ef3d-423b-a6cb-c83460deb13f",
   "metadata": {},
   "outputs": [
    {
     "data": {
      "text/plain": [
       "266.84656144249993"
      ]
     },
     "execution_count": 22,
     "metadata": {},
     "output_type": "execute_result"
    }
   ],
   "source": [
    "IQR=Q3-Q1\n",
    "IQR"
   ]
  },
  {
   "cell_type": "code",
   "execution_count": 23,
   "id": "582c7e1a-9727-427b-b083-5c44847a9c71",
   "metadata": {},
   "outputs": [
    {
     "data": {
      "text/plain": [
       "-305.10642370624987"
      ]
     },
     "execution_count": 23,
     "metadata": {},
     "output_type": "execute_result"
    }
   ],
   "source": [
    "lower_boundary=Q1-(1.5*IQR)\n",
    "lower_boundary"
   ]
  },
  {
   "cell_type": "code",
   "execution_count": 24,
   "id": "3f0a8921-462b-4ea4-b1a5-6d868fb9561a",
   "metadata": {},
   "outputs": [
    {
     "data": {
      "text/plain": [
       "762.2798220637499"
      ]
     },
     "execution_count": 24,
     "metadata": {},
     "output_type": "execute_result"
    }
   ],
   "source": [
    "upper_boundary=Q3+(1.5*IQR)\n",
    "upper_boundary"
   ]
  },
  {
   "cell_type": "code",
   "execution_count": 25,
   "id": "a240ce62-9e01-4395-8692-012f42d5674c",
   "metadata": {},
   "outputs": [
    {
     "data": {
      "text/html": [
       "<div>\n",
       "<style scoped>\n",
       "    .dataframe tbody tr th:only-of-type {\n",
       "        vertical-align: middle;\n",
       "    }\n",
       "\n",
       "    .dataframe tbody tr th {\n",
       "        vertical-align: top;\n",
       "    }\n",
       "\n",
       "    .dataframe thead th {\n",
       "        text-align: right;\n",
       "    }\n",
       "</style>\n",
       "<table border=\"1\" class=\"dataframe\">\n",
       "  <thead>\n",
       "    <tr style=\"text-align: right;\">\n",
       "      <th></th>\n",
       "      <th>CustomerID</th>\n",
       "      <th>ProductID</th>\n",
       "      <th>Quantity</th>\n",
       "      <th>Price</th>\n",
       "      <th>TransactionDate</th>\n",
       "      <th>PaymentMethod</th>\n",
       "      <th>StoreLocation</th>\n",
       "      <th>ProductCategory</th>\n",
       "      <th>DiscountApplied(%)</th>\n",
       "      <th>TotalAmount</th>\n",
       "    </tr>\n",
       "  </thead>\n",
       "  <tbody>\n",
       "    <tr>\n",
       "      <th>107</th>\n",
       "      <td>142499</td>\n",
       "      <td>B</td>\n",
       "      <td>9</td>\n",
       "      <td>88.778165</td>\n",
       "      <td>5/8/2023 0:23</td>\n",
       "      <td>Credit Card</td>\n",
       "      <td>409 Hampton Hill\\nLake Gail, MA 03704</td>\n",
       "      <td>Electronics</td>\n",
       "      <td>0.888264</td>\n",
       "      <td>791.906223</td>\n",
       "    </tr>\n",
       "    <tr>\n",
       "      <th>464</th>\n",
       "      <td>493138</td>\n",
       "      <td>D</td>\n",
       "      <td>9</td>\n",
       "      <td>99.999284</td>\n",
       "      <td>9/27/2023 23:40</td>\n",
       "      <td>Credit Card</td>\n",
       "      <td>766 Bryant Lock\\nNorth Ashley, MP 73093</td>\n",
       "      <td>Clothing</td>\n",
       "      <td>2.093143</td>\n",
       "      <td>881.155400</td>\n",
       "    </tr>\n",
       "    <tr>\n",
       "      <th>496</th>\n",
       "      <td>587590</td>\n",
       "      <td>D</td>\n",
       "      <td>9</td>\n",
       "      <td>88.377706</td>\n",
       "      <td>8/25/2023 23:40</td>\n",
       "      <td>PayPal</td>\n",
       "      <td>8711 Jonathon Vista Apt. 368\\nLoriburgh, WI 89346</td>\n",
       "      <td>Books</td>\n",
       "      <td>3.986390</td>\n",
       "      <td>763.691639</td>\n",
       "    </tr>\n",
       "    <tr>\n",
       "      <th>662</th>\n",
       "      <td>850461</td>\n",
       "      <td>B</td>\n",
       "      <td>8</td>\n",
       "      <td>99.566848</td>\n",
       "      <td>1/7/2024 23:04</td>\n",
       "      <td>Debit Card</td>\n",
       "      <td>4193 Kevin Knolls\\nEvanstown, MA 73699</td>\n",
       "      <td>Electronics</td>\n",
       "      <td>1.129157</td>\n",
       "      <td>787.540655</td>\n",
       "    </tr>\n",
       "    <tr>\n",
       "      <th>663</th>\n",
       "      <td>740108</td>\n",
       "      <td>C</td>\n",
       "      <td>9</td>\n",
       "      <td>99.981646</td>\n",
       "      <td>9/16/2023 23:36</td>\n",
       "      <td>PayPal</td>\n",
       "      <td>0721 Eric Points Suite 904\\nMarioborough, MO 0...</td>\n",
       "      <td>Electronics</td>\n",
       "      <td>14.297624</td>\n",
       "      <td>771.179815</td>\n",
       "    </tr>\n",
       "    <tr>\n",
       "      <th>...</th>\n",
       "      <td>...</td>\n",
       "      <td>...</td>\n",
       "      <td>...</td>\n",
       "      <td>...</td>\n",
       "      <td>...</td>\n",
       "      <td>...</td>\n",
       "      <td>...</td>\n",
       "      <td>...</td>\n",
       "      <td>...</td>\n",
       "      <td>...</td>\n",
       "    </tr>\n",
       "    <tr>\n",
       "      <th>99569</th>\n",
       "      <td>891249</td>\n",
       "      <td>D</td>\n",
       "      <td>9</td>\n",
       "      <td>94.731617</td>\n",
       "      <td>2/4/2024 2:45</td>\n",
       "      <td>PayPal</td>\n",
       "      <td>5532 Nancy Causeway Suite 281\\nFelicialand, RI...</td>\n",
       "      <td>Electronics</td>\n",
       "      <td>0.995650</td>\n",
       "      <td>844.095797</td>\n",
       "    </tr>\n",
       "    <tr>\n",
       "      <th>99607</th>\n",
       "      <td>424560</td>\n",
       "      <td>B</td>\n",
       "      <td>9</td>\n",
       "      <td>92.972276</td>\n",
       "      <td>11/2/2023 16:00</td>\n",
       "      <td>Cash</td>\n",
       "      <td>648 Burnett Hollow Suite 062\\nPort Chad, PA 98954</td>\n",
       "      <td>Home Decor</td>\n",
       "      <td>4.946829</td>\n",
       "      <td>795.357871</td>\n",
       "    </tr>\n",
       "    <tr>\n",
       "      <th>99732</th>\n",
       "      <td>243629</td>\n",
       "      <td>C</td>\n",
       "      <td>9</td>\n",
       "      <td>89.621820</td>\n",
       "      <td>10/5/2023 10:47</td>\n",
       "      <td>Credit Card</td>\n",
       "      <td>501 Jessica Passage Suite 048\\nJasminebury, MS...</td>\n",
       "      <td>Home Decor</td>\n",
       "      <td>2.753572</td>\n",
       "      <td>784.386168</td>\n",
       "    </tr>\n",
       "    <tr>\n",
       "      <th>99762</th>\n",
       "      <td>159085</td>\n",
       "      <td>B</td>\n",
       "      <td>9</td>\n",
       "      <td>95.568751</td>\n",
       "      <td>4/26/2024 0:19</td>\n",
       "      <td>Cash</td>\n",
       "      <td>599 Ashley Route Apt. 451\\nNorth Brittneyshire...</td>\n",
       "      <td>Books</td>\n",
       "      <td>8.647966</td>\n",
       "      <td>785.735978</td>\n",
       "    </tr>\n",
       "    <tr>\n",
       "      <th>99975</th>\n",
       "      <td>507259</td>\n",
       "      <td>A</td>\n",
       "      <td>9</td>\n",
       "      <td>98.097683</td>\n",
       "      <td>11/18/2023 15:08</td>\n",
       "      <td>Debit Card</td>\n",
       "      <td>965 Meza Ville Apt. 863\\nSalazarside, PW 27127</td>\n",
       "      <td>Home Decor</td>\n",
       "      <td>9.133472</td>\n",
       "      <td>802.241629</td>\n",
       "    </tr>\n",
       "  </tbody>\n",
       "</table>\n",
       "<p>853 rows × 10 columns</p>\n",
       "</div>"
      ],
      "text/plain": [
       "       CustomerID ProductID  Quantity      Price   TransactionDate  \\\n",
       "107        142499         B         9  88.778165     5/8/2023 0:23   \n",
       "464        493138         D         9  99.999284   9/27/2023 23:40   \n",
       "496        587590         D         9  88.377706   8/25/2023 23:40   \n",
       "662        850461         B         8  99.566848    1/7/2024 23:04   \n",
       "663        740108         C         9  99.981646   9/16/2023 23:36   \n",
       "...           ...       ...       ...        ...               ...   \n",
       "99569      891249         D         9  94.731617     2/4/2024 2:45   \n",
       "99607      424560         B         9  92.972276   11/2/2023 16:00   \n",
       "99732      243629         C         9  89.621820   10/5/2023 10:47   \n",
       "99762      159085         B         9  95.568751    4/26/2024 0:19   \n",
       "99975      507259         A         9  98.097683  11/18/2023 15:08   \n",
       "\n",
       "      PaymentMethod                                      StoreLocation  \\\n",
       "107     Credit Card              409 Hampton Hill\\nLake Gail, MA 03704   \n",
       "464     Credit Card            766 Bryant Lock\\nNorth Ashley, MP 73093   \n",
       "496          PayPal  8711 Jonathon Vista Apt. 368\\nLoriburgh, WI 89346   \n",
       "662      Debit Card             4193 Kevin Knolls\\nEvanstown, MA 73699   \n",
       "663          PayPal  0721 Eric Points Suite 904\\nMarioborough, MO 0...   \n",
       "...             ...                                                ...   \n",
       "99569        PayPal  5532 Nancy Causeway Suite 281\\nFelicialand, RI...   \n",
       "99607          Cash  648 Burnett Hollow Suite 062\\nPort Chad, PA 98954   \n",
       "99732   Credit Card  501 Jessica Passage Suite 048\\nJasminebury, MS...   \n",
       "99762          Cash  599 Ashley Route Apt. 451\\nNorth Brittneyshire...   \n",
       "99975    Debit Card     965 Meza Ville Apt. 863\\nSalazarside, PW 27127   \n",
       "\n",
       "      ProductCategory  DiscountApplied(%)  TotalAmount  \n",
       "107       Electronics            0.888264   791.906223  \n",
       "464          Clothing            2.093143   881.155400  \n",
       "496             Books            3.986390   763.691639  \n",
       "662       Electronics            1.129157   787.540655  \n",
       "663       Electronics           14.297624   771.179815  \n",
       "...               ...                 ...          ...  \n",
       "99569     Electronics            0.995650   844.095797  \n",
       "99607      Home Decor            4.946829   795.357871  \n",
       "99732      Home Decor            2.753572   784.386168  \n",
       "99762           Books            8.647966   785.735978  \n",
       "99975      Home Decor            9.133472   802.241629  \n",
       "\n",
       "[853 rows x 10 columns]"
      ]
     },
     "execution_count": 25,
     "metadata": {},
     "output_type": "execute_result"
    }
   ],
   "source": [
    "df[(df[\"TotalAmount\"]<lower_boundary)|(df[\"TotalAmount\"]>upper_boundary)]"
   ]
  },
  {
   "cell_type": "code",
   "execution_count": 26,
   "id": "bbbdd057-51b6-4e17-8c1f-0bac9e9d09bb",
   "metadata": {},
   "outputs": [
    {
     "data": {
      "text/html": [
       "<div>\n",
       "<style scoped>\n",
       "    .dataframe tbody tr th:only-of-type {\n",
       "        vertical-align: middle;\n",
       "    }\n",
       "\n",
       "    .dataframe tbody tr th {\n",
       "        vertical-align: top;\n",
       "    }\n",
       "\n",
       "    .dataframe thead th {\n",
       "        text-align: right;\n",
       "    }\n",
       "</style>\n",
       "<table border=\"1\" class=\"dataframe\">\n",
       "  <thead>\n",
       "    <tr style=\"text-align: right;\">\n",
       "      <th></th>\n",
       "      <th>CustomerID</th>\n",
       "      <th>ProductID</th>\n",
       "      <th>Quantity</th>\n",
       "      <th>Price</th>\n",
       "      <th>TransactionDate</th>\n",
       "      <th>PaymentMethod</th>\n",
       "      <th>StoreLocation</th>\n",
       "      <th>ProductCategory</th>\n",
       "      <th>DiscountApplied(%)</th>\n",
       "      <th>TotalAmount</th>\n",
       "    </tr>\n",
       "  </thead>\n",
       "  <tbody>\n",
       "  </tbody>\n",
       "</table>\n",
       "</div>"
      ],
      "text/plain": [
       "Empty DataFrame\n",
       "Columns: [CustomerID, ProductID, Quantity, Price, TransactionDate, PaymentMethod, StoreLocation, ProductCategory, DiscountApplied(%), TotalAmount]\n",
       "Index: []"
      ]
     },
     "execution_count": 26,
     "metadata": {},
     "output_type": "execute_result"
    }
   ],
   "source": [
    "df[(df[\"TotalAmount\"]<lower_boundary)]"
   ]
  },
  {
   "cell_type": "code",
   "execution_count": 27,
   "id": "445ce702-4b84-4cf3-a513-ec705b834d65",
   "metadata": {},
   "outputs": [
    {
     "data": {
      "text/html": [
       "<div>\n",
       "<style scoped>\n",
       "    .dataframe tbody tr th:only-of-type {\n",
       "        vertical-align: middle;\n",
       "    }\n",
       "\n",
       "    .dataframe tbody tr th {\n",
       "        vertical-align: top;\n",
       "    }\n",
       "\n",
       "    .dataframe thead th {\n",
       "        text-align: right;\n",
       "    }\n",
       "</style>\n",
       "<table border=\"1\" class=\"dataframe\">\n",
       "  <thead>\n",
       "    <tr style=\"text-align: right;\">\n",
       "      <th></th>\n",
       "      <th>CustomerID</th>\n",
       "      <th>ProductID</th>\n",
       "      <th>Quantity</th>\n",
       "      <th>Price</th>\n",
       "      <th>TransactionDate</th>\n",
       "      <th>PaymentMethod</th>\n",
       "      <th>StoreLocation</th>\n",
       "      <th>ProductCategory</th>\n",
       "      <th>DiscountApplied(%)</th>\n",
       "      <th>TotalAmount</th>\n",
       "    </tr>\n",
       "  </thead>\n",
       "  <tbody>\n",
       "    <tr>\n",
       "      <th>107</th>\n",
       "      <td>142499</td>\n",
       "      <td>B</td>\n",
       "      <td>9</td>\n",
       "      <td>88.778165</td>\n",
       "      <td>5/8/2023 0:23</td>\n",
       "      <td>Credit Card</td>\n",
       "      <td>409 Hampton Hill\\nLake Gail, MA 03704</td>\n",
       "      <td>Electronics</td>\n",
       "      <td>0.888264</td>\n",
       "      <td>791.906223</td>\n",
       "    </tr>\n",
       "    <tr>\n",
       "      <th>464</th>\n",
       "      <td>493138</td>\n",
       "      <td>D</td>\n",
       "      <td>9</td>\n",
       "      <td>99.999284</td>\n",
       "      <td>9/27/2023 23:40</td>\n",
       "      <td>Credit Card</td>\n",
       "      <td>766 Bryant Lock\\nNorth Ashley, MP 73093</td>\n",
       "      <td>Clothing</td>\n",
       "      <td>2.093143</td>\n",
       "      <td>881.155400</td>\n",
       "    </tr>\n",
       "    <tr>\n",
       "      <th>496</th>\n",
       "      <td>587590</td>\n",
       "      <td>D</td>\n",
       "      <td>9</td>\n",
       "      <td>88.377706</td>\n",
       "      <td>8/25/2023 23:40</td>\n",
       "      <td>PayPal</td>\n",
       "      <td>8711 Jonathon Vista Apt. 368\\nLoriburgh, WI 89346</td>\n",
       "      <td>Books</td>\n",
       "      <td>3.986390</td>\n",
       "      <td>763.691639</td>\n",
       "    </tr>\n",
       "    <tr>\n",
       "      <th>662</th>\n",
       "      <td>850461</td>\n",
       "      <td>B</td>\n",
       "      <td>8</td>\n",
       "      <td>99.566848</td>\n",
       "      <td>1/7/2024 23:04</td>\n",
       "      <td>Debit Card</td>\n",
       "      <td>4193 Kevin Knolls\\nEvanstown, MA 73699</td>\n",
       "      <td>Electronics</td>\n",
       "      <td>1.129157</td>\n",
       "      <td>787.540655</td>\n",
       "    </tr>\n",
       "    <tr>\n",
       "      <th>663</th>\n",
       "      <td>740108</td>\n",
       "      <td>C</td>\n",
       "      <td>9</td>\n",
       "      <td>99.981646</td>\n",
       "      <td>9/16/2023 23:36</td>\n",
       "      <td>PayPal</td>\n",
       "      <td>0721 Eric Points Suite 904\\nMarioborough, MO 0...</td>\n",
       "      <td>Electronics</td>\n",
       "      <td>14.297624</td>\n",
       "      <td>771.179815</td>\n",
       "    </tr>\n",
       "    <tr>\n",
       "      <th>...</th>\n",
       "      <td>...</td>\n",
       "      <td>...</td>\n",
       "      <td>...</td>\n",
       "      <td>...</td>\n",
       "      <td>...</td>\n",
       "      <td>...</td>\n",
       "      <td>...</td>\n",
       "      <td>...</td>\n",
       "      <td>...</td>\n",
       "      <td>...</td>\n",
       "    </tr>\n",
       "    <tr>\n",
       "      <th>99569</th>\n",
       "      <td>891249</td>\n",
       "      <td>D</td>\n",
       "      <td>9</td>\n",
       "      <td>94.731617</td>\n",
       "      <td>2/4/2024 2:45</td>\n",
       "      <td>PayPal</td>\n",
       "      <td>5532 Nancy Causeway Suite 281\\nFelicialand, RI...</td>\n",
       "      <td>Electronics</td>\n",
       "      <td>0.995650</td>\n",
       "      <td>844.095797</td>\n",
       "    </tr>\n",
       "    <tr>\n",
       "      <th>99607</th>\n",
       "      <td>424560</td>\n",
       "      <td>B</td>\n",
       "      <td>9</td>\n",
       "      <td>92.972276</td>\n",
       "      <td>11/2/2023 16:00</td>\n",
       "      <td>Cash</td>\n",
       "      <td>648 Burnett Hollow Suite 062\\nPort Chad, PA 98954</td>\n",
       "      <td>Home Decor</td>\n",
       "      <td>4.946829</td>\n",
       "      <td>795.357871</td>\n",
       "    </tr>\n",
       "    <tr>\n",
       "      <th>99732</th>\n",
       "      <td>243629</td>\n",
       "      <td>C</td>\n",
       "      <td>9</td>\n",
       "      <td>89.621820</td>\n",
       "      <td>10/5/2023 10:47</td>\n",
       "      <td>Credit Card</td>\n",
       "      <td>501 Jessica Passage Suite 048\\nJasminebury, MS...</td>\n",
       "      <td>Home Decor</td>\n",
       "      <td>2.753572</td>\n",
       "      <td>784.386168</td>\n",
       "    </tr>\n",
       "    <tr>\n",
       "      <th>99762</th>\n",
       "      <td>159085</td>\n",
       "      <td>B</td>\n",
       "      <td>9</td>\n",
       "      <td>95.568751</td>\n",
       "      <td>4/26/2024 0:19</td>\n",
       "      <td>Cash</td>\n",
       "      <td>599 Ashley Route Apt. 451\\nNorth Brittneyshire...</td>\n",
       "      <td>Books</td>\n",
       "      <td>8.647966</td>\n",
       "      <td>785.735978</td>\n",
       "    </tr>\n",
       "    <tr>\n",
       "      <th>99975</th>\n",
       "      <td>507259</td>\n",
       "      <td>A</td>\n",
       "      <td>9</td>\n",
       "      <td>98.097683</td>\n",
       "      <td>11/18/2023 15:08</td>\n",
       "      <td>Debit Card</td>\n",
       "      <td>965 Meza Ville Apt. 863\\nSalazarside, PW 27127</td>\n",
       "      <td>Home Decor</td>\n",
       "      <td>9.133472</td>\n",
       "      <td>802.241629</td>\n",
       "    </tr>\n",
       "  </tbody>\n",
       "</table>\n",
       "<p>853 rows × 10 columns</p>\n",
       "</div>"
      ],
      "text/plain": [
       "       CustomerID ProductID  Quantity      Price   TransactionDate  \\\n",
       "107        142499         B         9  88.778165     5/8/2023 0:23   \n",
       "464        493138         D         9  99.999284   9/27/2023 23:40   \n",
       "496        587590         D         9  88.377706   8/25/2023 23:40   \n",
       "662        850461         B         8  99.566848    1/7/2024 23:04   \n",
       "663        740108         C         9  99.981646   9/16/2023 23:36   \n",
       "...           ...       ...       ...        ...               ...   \n",
       "99569      891249         D         9  94.731617     2/4/2024 2:45   \n",
       "99607      424560         B         9  92.972276   11/2/2023 16:00   \n",
       "99732      243629         C         9  89.621820   10/5/2023 10:47   \n",
       "99762      159085         B         9  95.568751    4/26/2024 0:19   \n",
       "99975      507259         A         9  98.097683  11/18/2023 15:08   \n",
       "\n",
       "      PaymentMethod                                      StoreLocation  \\\n",
       "107     Credit Card              409 Hampton Hill\\nLake Gail, MA 03704   \n",
       "464     Credit Card            766 Bryant Lock\\nNorth Ashley, MP 73093   \n",
       "496          PayPal  8711 Jonathon Vista Apt. 368\\nLoriburgh, WI 89346   \n",
       "662      Debit Card             4193 Kevin Knolls\\nEvanstown, MA 73699   \n",
       "663          PayPal  0721 Eric Points Suite 904\\nMarioborough, MO 0...   \n",
       "...             ...                                                ...   \n",
       "99569        PayPal  5532 Nancy Causeway Suite 281\\nFelicialand, RI...   \n",
       "99607          Cash  648 Burnett Hollow Suite 062\\nPort Chad, PA 98954   \n",
       "99732   Credit Card  501 Jessica Passage Suite 048\\nJasminebury, MS...   \n",
       "99762          Cash  599 Ashley Route Apt. 451\\nNorth Brittneyshire...   \n",
       "99975    Debit Card     965 Meza Ville Apt. 863\\nSalazarside, PW 27127   \n",
       "\n",
       "      ProductCategory  DiscountApplied(%)  TotalAmount  \n",
       "107       Electronics            0.888264   791.906223  \n",
       "464          Clothing            2.093143   881.155400  \n",
       "496             Books            3.986390   763.691639  \n",
       "662       Electronics            1.129157   787.540655  \n",
       "663       Electronics           14.297624   771.179815  \n",
       "...               ...                 ...          ...  \n",
       "99569     Electronics            0.995650   844.095797  \n",
       "99607      Home Decor            4.946829   795.357871  \n",
       "99732      Home Decor            2.753572   784.386168  \n",
       "99762           Books            8.647966   785.735978  \n",
       "99975      Home Decor            9.133472   802.241629  \n",
       "\n",
       "[853 rows x 10 columns]"
      ]
     },
     "execution_count": 27,
     "metadata": {},
     "output_type": "execute_result"
    }
   ],
   "source": [
    "df[(df[\"TotalAmount\"]>upper_boundary)]"
   ]
  },
  {
   "cell_type": "code",
   "execution_count": 41,
   "id": "0d130200-637d-4941-a0fe-de44150f570e",
   "metadata": {},
   "outputs": [],
   "source": [
    "def Outliers(df, column):\n",
    "    Q1 = df[column].quantile(0.25)   \n",
    "    Q3 = df[column].quantile(0.75)   \n",
    "    IQR = Q3 - Q1                    \n",
    "    lower_bound = Q1 - 1.5 * IQR\n",
    "    upper_bound = Q3 + 1.5 * IQR\n",
    "    outliers = df[(df[column] < lower_bound) | (df[column] > upper_bound)]\n",
    "    \n",
    "    print(f\"Column: {column}\")\n",
    "    print(f\"Lower Bound: {lower_bound}, Upper Bound: {upper_bound}\")\n",
    "    print(f\"Total Outliers: {outliers}\")\n",
    "    \n",
    "    return outliers\n"
   ]
  },
  {
   "cell_type": "code",
   "execution_count": 42,
   "id": "d474061e-4381-438d-ba6a-1a84812936a8",
   "metadata": {},
   "outputs": [
    {
     "name": "stdout",
     "output_type": "stream",
     "text": [
      "Column: Price\n",
      "Lower Bound: -34.8114600025, Upper Bound: 144.81769747750002\n",
      "Total Outliers: 0\n"
     ]
    },
    {
     "data": {
      "text/html": [
       "<div>\n",
       "<style scoped>\n",
       "    .dataframe tbody tr th:only-of-type {\n",
       "        vertical-align: middle;\n",
       "    }\n",
       "\n",
       "    .dataframe tbody tr th {\n",
       "        vertical-align: top;\n",
       "    }\n",
       "\n",
       "    .dataframe thead th {\n",
       "        text-align: right;\n",
       "    }\n",
       "</style>\n",
       "<table border=\"1\" class=\"dataframe\">\n",
       "  <thead>\n",
       "    <tr style=\"text-align: right;\">\n",
       "      <th></th>\n",
       "      <th>CustomerID</th>\n",
       "      <th>ProductID</th>\n",
       "      <th>Quantity</th>\n",
       "      <th>Price</th>\n",
       "      <th>TransactionDate</th>\n",
       "      <th>PaymentMethod</th>\n",
       "      <th>StoreLocation</th>\n",
       "      <th>ProductCategory</th>\n",
       "      <th>DiscountApplied(%)</th>\n",
       "      <th>TotalAmount</th>\n",
       "    </tr>\n",
       "  </thead>\n",
       "  <tbody>\n",
       "  </tbody>\n",
       "</table>\n",
       "</div>"
      ],
      "text/plain": [
       "Empty DataFrame\n",
       "Columns: [CustomerID, ProductID, Quantity, Price, TransactionDate, PaymentMethod, StoreLocation, ProductCategory, DiscountApplied(%), TotalAmount]\n",
       "Index: []"
      ]
     },
     "execution_count": 42,
     "metadata": {},
     "output_type": "execute_result"
    }
   ],
   "source": [
    "find_outliers(df,\"Price\")"
   ]
  },
  {
   "cell_type": "code",
   "execution_count": 33,
   "id": "f8b753c6-aee6-48ea-8073-df9e8591fc6b",
   "metadata": {},
   "outputs": [
    {
     "name": "stdout",
     "output_type": "stream",
     "text": [
      "Column: DiscountApplied(%)\n",
      "Lower Bound: -10.025019071875002, Upper Bound: 30.044398599125003\n",
      "Total Outliers: 0\n"
     ]
    },
    {
     "data": {
      "text/html": [
       "<div>\n",
       "<style scoped>\n",
       "    .dataframe tbody tr th:only-of-type {\n",
       "        vertical-align: middle;\n",
       "    }\n",
       "\n",
       "    .dataframe tbody tr th {\n",
       "        vertical-align: top;\n",
       "    }\n",
       "\n",
       "    .dataframe thead th {\n",
       "        text-align: right;\n",
       "    }\n",
       "</style>\n",
       "<table border=\"1\" class=\"dataframe\">\n",
       "  <thead>\n",
       "    <tr style=\"text-align: right;\">\n",
       "      <th></th>\n",
       "      <th>CustomerID</th>\n",
       "      <th>ProductID</th>\n",
       "      <th>Quantity</th>\n",
       "      <th>Price</th>\n",
       "      <th>TransactionDate</th>\n",
       "      <th>PaymentMethod</th>\n",
       "      <th>StoreLocation</th>\n",
       "      <th>ProductCategory</th>\n",
       "      <th>DiscountApplied(%)</th>\n",
       "      <th>TotalAmount</th>\n",
       "    </tr>\n",
       "  </thead>\n",
       "  <tbody>\n",
       "  </tbody>\n",
       "</table>\n",
       "</div>"
      ],
      "text/plain": [
       "Empty DataFrame\n",
       "Columns: [CustomerID, ProductID, Quantity, Price, TransactionDate, PaymentMethod, StoreLocation, ProductCategory, DiscountApplied(%), TotalAmount]\n",
       "Index: []"
      ]
     },
     "execution_count": 33,
     "metadata": {},
     "output_type": "execute_result"
    }
   ],
   "source": [
    "find_outliers(df,\"DiscountApplied(%)\")"
   ]
  },
  {
   "cell_type": "code",
   "execution_count": 34,
   "id": "65f31398-4ad7-4625-a28e-46daaadba14c",
   "metadata": {},
   "outputs": [
    {
     "name": "stdout",
     "output_type": "stream",
     "text": [
      "Column: CustomerID\n",
      "Lower Bound: -499922.75, Upper Bound: 1501721.25\n",
      "Total Outliers: 0\n"
     ]
    },
    {
     "data": {
      "text/html": [
       "<div>\n",
       "<style scoped>\n",
       "    .dataframe tbody tr th:only-of-type {\n",
       "        vertical-align: middle;\n",
       "    }\n",
       "\n",
       "    .dataframe tbody tr th {\n",
       "        vertical-align: top;\n",
       "    }\n",
       "\n",
       "    .dataframe thead th {\n",
       "        text-align: right;\n",
       "    }\n",
       "</style>\n",
       "<table border=\"1\" class=\"dataframe\">\n",
       "  <thead>\n",
       "    <tr style=\"text-align: right;\">\n",
       "      <th></th>\n",
       "      <th>CustomerID</th>\n",
       "      <th>ProductID</th>\n",
       "      <th>Quantity</th>\n",
       "      <th>Price</th>\n",
       "      <th>TransactionDate</th>\n",
       "      <th>PaymentMethod</th>\n",
       "      <th>StoreLocation</th>\n",
       "      <th>ProductCategory</th>\n",
       "      <th>DiscountApplied(%)</th>\n",
       "      <th>TotalAmount</th>\n",
       "    </tr>\n",
       "  </thead>\n",
       "  <tbody>\n",
       "  </tbody>\n",
       "</table>\n",
       "</div>"
      ],
      "text/plain": [
       "Empty DataFrame\n",
       "Columns: [CustomerID, ProductID, Quantity, Price, TransactionDate, PaymentMethod, StoreLocation, ProductCategory, DiscountApplied(%), TotalAmount]\n",
       "Index: []"
      ]
     },
     "execution_count": 34,
     "metadata": {},
     "output_type": "execute_result"
    }
   ],
   "source": [
    "find_outliers(df,\"CustomerID\")"
   ]
  },
  {
   "cell_type": "code",
   "execution_count": 35,
   "id": "33d4b71a-8d94-4262-9d44-03df4100a002",
   "metadata": {},
   "outputs": [
    {
     "name": "stdout",
     "output_type": "stream",
     "text": [
      "Column: Quantity\n",
      "Lower Bound: -3.0, Upper Bound: 13.0\n",
      "Total Outliers: 0\n"
     ]
    },
    {
     "data": {
      "text/html": [
       "<div>\n",
       "<style scoped>\n",
       "    .dataframe tbody tr th:only-of-type {\n",
       "        vertical-align: middle;\n",
       "    }\n",
       "\n",
       "    .dataframe tbody tr th {\n",
       "        vertical-align: top;\n",
       "    }\n",
       "\n",
       "    .dataframe thead th {\n",
       "        text-align: right;\n",
       "    }\n",
       "</style>\n",
       "<table border=\"1\" class=\"dataframe\">\n",
       "  <thead>\n",
       "    <tr style=\"text-align: right;\">\n",
       "      <th></th>\n",
       "      <th>CustomerID</th>\n",
       "      <th>ProductID</th>\n",
       "      <th>Quantity</th>\n",
       "      <th>Price</th>\n",
       "      <th>TransactionDate</th>\n",
       "      <th>PaymentMethod</th>\n",
       "      <th>StoreLocation</th>\n",
       "      <th>ProductCategory</th>\n",
       "      <th>DiscountApplied(%)</th>\n",
       "      <th>TotalAmount</th>\n",
       "    </tr>\n",
       "  </thead>\n",
       "  <tbody>\n",
       "  </tbody>\n",
       "</table>\n",
       "</div>"
      ],
      "text/plain": [
       "Empty DataFrame\n",
       "Columns: [CustomerID, ProductID, Quantity, Price, TransactionDate, PaymentMethod, StoreLocation, ProductCategory, DiscountApplied(%), TotalAmount]\n",
       "Index: []"
      ]
     },
     "execution_count": 35,
     "metadata": {},
     "output_type": "execute_result"
    }
   ],
   "source": [
    "find_outliers(df,\"Quantity\")"
   ]
  },
  {
   "cell_type": "code",
   "execution_count": 43,
   "id": "6cc10770-b811-4852-9006-56aeb28e1d95",
   "metadata": {},
   "outputs": [
    {
     "name": "stdout",
     "output_type": "stream",
     "text": [
      "Column: TotalAmount\n",
      "Lower Bound: -305.10642370624987, Upper Bound: 762.2798220637499\n",
      "Total Outliers: 853\n"
     ]
    },
    {
     "data": {
      "text/html": [
       "<div>\n",
       "<style scoped>\n",
       "    .dataframe tbody tr th:only-of-type {\n",
       "        vertical-align: middle;\n",
       "    }\n",
       "\n",
       "    .dataframe tbody tr th {\n",
       "        vertical-align: top;\n",
       "    }\n",
       "\n",
       "    .dataframe thead th {\n",
       "        text-align: right;\n",
       "    }\n",
       "</style>\n",
       "<table border=\"1\" class=\"dataframe\">\n",
       "  <thead>\n",
       "    <tr style=\"text-align: right;\">\n",
       "      <th></th>\n",
       "      <th>CustomerID</th>\n",
       "      <th>ProductID</th>\n",
       "      <th>Quantity</th>\n",
       "      <th>Price</th>\n",
       "      <th>TransactionDate</th>\n",
       "      <th>PaymentMethod</th>\n",
       "      <th>StoreLocation</th>\n",
       "      <th>ProductCategory</th>\n",
       "      <th>DiscountApplied(%)</th>\n",
       "      <th>TotalAmount</th>\n",
       "    </tr>\n",
       "  </thead>\n",
       "  <tbody>\n",
       "    <tr>\n",
       "      <th>107</th>\n",
       "      <td>142499</td>\n",
       "      <td>B</td>\n",
       "      <td>9</td>\n",
       "      <td>88.778165</td>\n",
       "      <td>5/8/2023 0:23</td>\n",
       "      <td>Credit Card</td>\n",
       "      <td>409 Hampton Hill\\nLake Gail, MA 03704</td>\n",
       "      <td>Electronics</td>\n",
       "      <td>0.888264</td>\n",
       "      <td>791.906223</td>\n",
       "    </tr>\n",
       "    <tr>\n",
       "      <th>464</th>\n",
       "      <td>493138</td>\n",
       "      <td>D</td>\n",
       "      <td>9</td>\n",
       "      <td>99.999284</td>\n",
       "      <td>9/27/2023 23:40</td>\n",
       "      <td>Credit Card</td>\n",
       "      <td>766 Bryant Lock\\nNorth Ashley, MP 73093</td>\n",
       "      <td>Clothing</td>\n",
       "      <td>2.093143</td>\n",
       "      <td>881.155400</td>\n",
       "    </tr>\n",
       "    <tr>\n",
       "      <th>496</th>\n",
       "      <td>587590</td>\n",
       "      <td>D</td>\n",
       "      <td>9</td>\n",
       "      <td>88.377706</td>\n",
       "      <td>8/25/2023 23:40</td>\n",
       "      <td>PayPal</td>\n",
       "      <td>8711 Jonathon Vista Apt. 368\\nLoriburgh, WI 89346</td>\n",
       "      <td>Books</td>\n",
       "      <td>3.986390</td>\n",
       "      <td>763.691639</td>\n",
       "    </tr>\n",
       "    <tr>\n",
       "      <th>662</th>\n",
       "      <td>850461</td>\n",
       "      <td>B</td>\n",
       "      <td>8</td>\n",
       "      <td>99.566848</td>\n",
       "      <td>1/7/2024 23:04</td>\n",
       "      <td>Debit Card</td>\n",
       "      <td>4193 Kevin Knolls\\nEvanstown, MA 73699</td>\n",
       "      <td>Electronics</td>\n",
       "      <td>1.129157</td>\n",
       "      <td>787.540655</td>\n",
       "    </tr>\n",
       "    <tr>\n",
       "      <th>663</th>\n",
       "      <td>740108</td>\n",
       "      <td>C</td>\n",
       "      <td>9</td>\n",
       "      <td>99.981646</td>\n",
       "      <td>9/16/2023 23:36</td>\n",
       "      <td>PayPal</td>\n",
       "      <td>0721 Eric Points Suite 904\\nMarioborough, MO 0...</td>\n",
       "      <td>Electronics</td>\n",
       "      <td>14.297624</td>\n",
       "      <td>771.179815</td>\n",
       "    </tr>\n",
       "    <tr>\n",
       "      <th>...</th>\n",
       "      <td>...</td>\n",
       "      <td>...</td>\n",
       "      <td>...</td>\n",
       "      <td>...</td>\n",
       "      <td>...</td>\n",
       "      <td>...</td>\n",
       "      <td>...</td>\n",
       "      <td>...</td>\n",
       "      <td>...</td>\n",
       "      <td>...</td>\n",
       "    </tr>\n",
       "    <tr>\n",
       "      <th>99569</th>\n",
       "      <td>891249</td>\n",
       "      <td>D</td>\n",
       "      <td>9</td>\n",
       "      <td>94.731617</td>\n",
       "      <td>2/4/2024 2:45</td>\n",
       "      <td>PayPal</td>\n",
       "      <td>5532 Nancy Causeway Suite 281\\nFelicialand, RI...</td>\n",
       "      <td>Electronics</td>\n",
       "      <td>0.995650</td>\n",
       "      <td>844.095797</td>\n",
       "    </tr>\n",
       "    <tr>\n",
       "      <th>99607</th>\n",
       "      <td>424560</td>\n",
       "      <td>B</td>\n",
       "      <td>9</td>\n",
       "      <td>92.972276</td>\n",
       "      <td>11/2/2023 16:00</td>\n",
       "      <td>Cash</td>\n",
       "      <td>648 Burnett Hollow Suite 062\\nPort Chad, PA 98954</td>\n",
       "      <td>Home Decor</td>\n",
       "      <td>4.946829</td>\n",
       "      <td>795.357871</td>\n",
       "    </tr>\n",
       "    <tr>\n",
       "      <th>99732</th>\n",
       "      <td>243629</td>\n",
       "      <td>C</td>\n",
       "      <td>9</td>\n",
       "      <td>89.621820</td>\n",
       "      <td>10/5/2023 10:47</td>\n",
       "      <td>Credit Card</td>\n",
       "      <td>501 Jessica Passage Suite 048\\nJasminebury, MS...</td>\n",
       "      <td>Home Decor</td>\n",
       "      <td>2.753572</td>\n",
       "      <td>784.386168</td>\n",
       "    </tr>\n",
       "    <tr>\n",
       "      <th>99762</th>\n",
       "      <td>159085</td>\n",
       "      <td>B</td>\n",
       "      <td>9</td>\n",
       "      <td>95.568751</td>\n",
       "      <td>4/26/2024 0:19</td>\n",
       "      <td>Cash</td>\n",
       "      <td>599 Ashley Route Apt. 451\\nNorth Brittneyshire...</td>\n",
       "      <td>Books</td>\n",
       "      <td>8.647966</td>\n",
       "      <td>785.735978</td>\n",
       "    </tr>\n",
       "    <tr>\n",
       "      <th>99975</th>\n",
       "      <td>507259</td>\n",
       "      <td>A</td>\n",
       "      <td>9</td>\n",
       "      <td>98.097683</td>\n",
       "      <td>11/18/2023 15:08</td>\n",
       "      <td>Debit Card</td>\n",
       "      <td>965 Meza Ville Apt. 863\\nSalazarside, PW 27127</td>\n",
       "      <td>Home Decor</td>\n",
       "      <td>9.133472</td>\n",
       "      <td>802.241629</td>\n",
       "    </tr>\n",
       "  </tbody>\n",
       "</table>\n",
       "<p>853 rows × 10 columns</p>\n",
       "</div>"
      ],
      "text/plain": [
       "       CustomerID ProductID  Quantity      Price   TransactionDate  \\\n",
       "107        142499         B         9  88.778165     5/8/2023 0:23   \n",
       "464        493138         D         9  99.999284   9/27/2023 23:40   \n",
       "496        587590         D         9  88.377706   8/25/2023 23:40   \n",
       "662        850461         B         8  99.566848    1/7/2024 23:04   \n",
       "663        740108         C         9  99.981646   9/16/2023 23:36   \n",
       "...           ...       ...       ...        ...               ...   \n",
       "99569      891249         D         9  94.731617     2/4/2024 2:45   \n",
       "99607      424560         B         9  92.972276   11/2/2023 16:00   \n",
       "99732      243629         C         9  89.621820   10/5/2023 10:47   \n",
       "99762      159085         B         9  95.568751    4/26/2024 0:19   \n",
       "99975      507259         A         9  98.097683  11/18/2023 15:08   \n",
       "\n",
       "      PaymentMethod                                      StoreLocation  \\\n",
       "107     Credit Card              409 Hampton Hill\\nLake Gail, MA 03704   \n",
       "464     Credit Card            766 Bryant Lock\\nNorth Ashley, MP 73093   \n",
       "496          PayPal  8711 Jonathon Vista Apt. 368\\nLoriburgh, WI 89346   \n",
       "662      Debit Card             4193 Kevin Knolls\\nEvanstown, MA 73699   \n",
       "663          PayPal  0721 Eric Points Suite 904\\nMarioborough, MO 0...   \n",
       "...             ...                                                ...   \n",
       "99569        PayPal  5532 Nancy Causeway Suite 281\\nFelicialand, RI...   \n",
       "99607          Cash  648 Burnett Hollow Suite 062\\nPort Chad, PA 98954   \n",
       "99732   Credit Card  501 Jessica Passage Suite 048\\nJasminebury, MS...   \n",
       "99762          Cash  599 Ashley Route Apt. 451\\nNorth Brittneyshire...   \n",
       "99975    Debit Card     965 Meza Ville Apt. 863\\nSalazarside, PW 27127   \n",
       "\n",
       "      ProductCategory  DiscountApplied(%)  TotalAmount  \n",
       "107       Electronics            0.888264   791.906223  \n",
       "464          Clothing            2.093143   881.155400  \n",
       "496             Books            3.986390   763.691639  \n",
       "662       Electronics            1.129157   787.540655  \n",
       "663       Electronics           14.297624   771.179815  \n",
       "...               ...                 ...          ...  \n",
       "99569     Electronics            0.995650   844.095797  \n",
       "99607      Home Decor            4.946829   795.357871  \n",
       "99732      Home Decor            2.753572   784.386168  \n",
       "99762           Books            8.647966   785.735978  \n",
       "99975      Home Decor            9.133472   802.241629  \n",
       "\n",
       "[853 rows x 10 columns]"
      ]
     },
     "execution_count": 43,
     "metadata": {},
     "output_type": "execute_result"
    }
   ],
   "source": [
    "find_outliers(df,\"TotalAmount\")"
   ]
  },
  {
   "cell_type": "markdown",
   "id": "737e8566-9db8-4027-8cfa-4097dbac4382",
   "metadata": {},
   "source": [
    "### Observation\n",
    "- It is observed that TotalAmount have outliers but those are just larger revenue value not errors."
   ]
  },
  {
   "cell_type": "code",
   "execution_count": 45,
   "id": "f0629b23-5867-44e2-8839-860de2ba29b0",
   "metadata": {},
   "outputs": [
    {
     "name": "stdout",
     "output_type": "stream",
     "text": [
      "  ProductCategory  avg_price_per_item  avg_quantity  avg_total_amount  \\\n",
      "0           Books           55.101589      5.035636        250.003477   \n",
      "1        Clothing           55.127468      4.990581        247.665324   \n",
      "2     Electronics           54.958181      5.015886        247.968578   \n",
      "3      Home Decor           55.081963      4.995025        247.699770   \n",
      "\n",
      "   total_revenue  transaction_count  \n",
      "0   6.257837e+06              25031  \n",
      "1   6.205502e+06              25056  \n",
      "2   6.196735e+06              24990  \n",
      "3   6.173421e+06              24923  \n"
     ]
    }
   ],
   "source": [
    "\n",
    "summary = df.groupby(\"ProductCategory\").agg(\n",
    "    avg_price_per_item=(\"Price\", \"mean\"),\n",
    "    avg_quantity=(\"Quantity\", \"mean\"),\n",
    "    avg_total_amount=(\"TotalAmount\", \"mean\"),\n",
    "    total_revenue=(\"TotalAmount\", \"sum\"),\n",
    "    transaction_count=(\"TotalAmount\", \"count\")\n",
    ").reset_index()\n",
    "\n",
    "print(summary)\n"
   ]
  },
  {
   "cell_type": "code",
   "execution_count": null,
   "id": "7e0e2087-2f38-4f15-80f0-4156c67cee52",
   "metadata": {},
   "outputs": [],
   "source": []
  }
 ],
 "metadata": {
  "kernelspec": {
   "display_name": "Python 3 (ipykernel)",
   "language": "python",
   "name": "python3"
  },
  "language_info": {
   "codemirror_mode": {
    "name": "ipython",
    "version": 3
   },
   "file_extension": ".py",
   "mimetype": "text/x-python",
   "name": "python",
   "nbconvert_exporter": "python",
   "pygments_lexer": "ipython3",
   "version": "3.12.7"
  }
 },
 "nbformat": 4,
 "nbformat_minor": 5
}
